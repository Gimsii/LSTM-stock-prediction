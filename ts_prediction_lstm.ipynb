{
  "nbformat": 4,
  "nbformat_minor": 0,
  "metadata": {
    "colab": {
      "provenance": [],
      "collapsed_sections": [],
      "authorship_tag": "ABX9TyMl7CPhUdB04gVbXn+UKe4f"
    },
    "kernelspec": {
      "name": "python3",
      "display_name": "Python 3"
    },
    "language_info": {
      "name": "python"
    }
  },
  "cells": [
    {
      "cell_type": "code",
      "execution_count": null,
      "metadata": {
        "id": "ubxHDYzZe4TA"
      },
      "outputs": [],
      "source": [
        "import numpy as np\n",
        "import pandas as pd\n",
        "import plotly.express as px\n",
        "from scipy import stats\n",
        "from sklearn.preprocessing import MinMaxScaler\n",
        "from tensorflow import keras\n",
        "import yfinance as yf"
      ]
    },
    {
      "cell_type": "code",
      "source": [
        "def interactive_plot(df, title):\n",
        "  fig = px.line(title=title)\n",
        "  for i in df.columns[1:]:\n",
        "    fig.add_scatter(x = df['Date'], y = df[i], name = i)\n",
        "  fig.show()"
      ],
      "metadata": {
        "id": "-1TaYgSNf7y0"
      },
      "execution_count": null,
      "outputs": []
    },
    {
      "cell_type": "code",
      "source": [
        "def lstm_stock_predictor(proportion, ticker = \"ticker\", start_date= \"start_date\", end_date=\"end_date\"):\n",
        "  \n",
        "  # Step 1: grab data\n",
        "  df = yf.download(tickers=ticker, start=start_date, end=end_date)\n",
        "\n",
        "  # Step 2: prepare data\n",
        "  data = pd.DataFrame({'Adj Close': df['Adj Close'], 'Volume': df['Volume']})\n",
        "  training_data = data.to_numpy()\n",
        "\n",
        "  # Scaling data, easier for model to learn\n",
        "  scale_range = MinMaxScaler(feature_range = (0,1))\n",
        "  training_data_scaled = scale_range.fit_transform(training_data)\n",
        "  training_data_scaled\n",
        "\n",
        "  # Set up input/output, e.g predicting next day's price\n",
        "  X = np.array([training_data_scaled[:-1,0]]).T\n",
        "  y = training_data_scaled[1:,0]\n",
        "\n",
        "  # Choosing proportion of data to be trained/tested\n",
        "  lim = int(proportion * len(X))\n",
        "  X_train, y_train = X[:lim], y[:lim]\n",
        "  X_test, y_test = X[lim:], y[lim:]\n",
        "\n",
        "  X_train = np.reshape(X_train, (X_train.shape[0], X_train.shape[1], 1))\n",
        "  X_test = np.reshape(X_test, (X_test.shape[0], X_test.shape[1], 1))\n",
        "\n",
        "  # Step 3: creating model\n",
        "  inputs = keras.layers.Input(shape=(X_train.shape[1], X_train.shape[2]))\n",
        "  x = keras.layers.LSTM(150, return_sequences= True)(inputs)\n",
        "  x = keras.layers.Dropout(0.3)(x)\n",
        "  x = keras.layers.LSTM(150, return_sequences=True)(x)\n",
        "  x = keras.layers.Dropout(0.3)(x)\n",
        "  x = keras.layers.LSTM(150)(x)\n",
        "  outputs = keras.layers.Dense(1, activation='linear')(x)\n",
        "\n",
        "  model = keras.Model(inputs = inputs, outputs = outputs)\n",
        "  model.compile(optimizer = 'adam', loss = 'mse')\n",
        "\n",
        "  # Step 4: train model\n",
        "  history = model.fit(X_train, y_train, epochs =20, batch_size = 32, validation_split = 0.2 )\n",
        "\n",
        "  # Step 5: final predictions and result\n",
        "  prediction = model.predict(X)[:,0].tolist()\n",
        "  scaled_adjclose = training_data_scaled[:-1,0].tolist()\n",
        "\n",
        "  data_prediction = pd.DataFrame({'Date': df.index[:-1],'Scaled Adj Close': scaled_adjclose, 'Prediction': prediction})\n",
        "\n",
        "  return interactive_plot(data_prediction, 'og vs pred')"
      ],
      "metadata": {
        "id": "m6lZgoBxe83v"
      },
      "execution_count": null,
      "outputs": []
    }
  ]
}